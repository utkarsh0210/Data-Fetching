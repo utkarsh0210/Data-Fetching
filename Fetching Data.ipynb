{
 "cells": [
  {
   "cell_type": "code",
   "execution_count": 2,
   "id": "c59036e7",
   "metadata": {},
   "outputs": [],
   "source": [
    "import pandas as pd\n",
    "import requests"
   ]
  },
  {
   "cell_type": "code",
   "execution_count": 26,
   "id": "7675b99b",
   "metadata": {},
   "outputs": [],
   "source": [
    "\n",
    "headers = {\n",
    "\t\"X-RapidAPI-Key\": \"38810b1e6bmshf8eb0732dc21cd6p15f79fjsn3b02dc7482a7\",\n",
    "\t\"X-RapidAPI-Host\": \"youtube-data8.p.rapidapi.com\"\n",
    "}\n",
    "querystring = {\"q\":\"cooking\",\"hl\":\"en\",\"gl\":\"IN\"}\n",
    "yt_searches = requests.get('https://youtube-data8.p.rapidapi.com/auto-complete/',headers=headers,params=querystring)"
   ]
  },
  {
   "cell_type": "code",
   "execution_count": 27,
   "id": "30c6f0b5",
   "metadata": {},
   "outputs": [],
   "source": [
    "df=pd.DataFrame(yt_searches.json()).head()"
   ]
  },
  {
   "cell_type": "code",
   "execution_count": 25,
   "id": "3958413a",
   "metadata": {},
   "outputs": [],
   "source": [
    "df.to_csv('yt_searches.csv')"
   ]
  }
 ],
 "metadata": {
  "kernelspec": {
   "display_name": "Python 3 (ipykernel)",
   "language": "python",
   "name": "python3"
  },
  "language_info": {
   "codemirror_mode": {
    "name": "ipython",
    "version": 3
   },
   "file_extension": ".py",
   "mimetype": "text/x-python",
   "name": "python",
   "nbconvert_exporter": "python",
   "pygments_lexer": "ipython3",
   "version": "3.11.5"
  }
 },
 "nbformat": 4,
 "nbformat_minor": 5
}
